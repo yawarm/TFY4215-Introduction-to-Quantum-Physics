{
 "cells": [
  {
   "cell_type": "markdown",
   "metadata": {},
   "source": [
    "**Navn på gruppens medlemmer:** Tore B. Braathen, Åshild M. M. Føllesdal, Yawar Mahmood\n",
    "\n",
    "*Levér en ferdig kjørt notebook som inkluderer alle resultater, helst eksportert som HTML-dokument. Det er tilstrekkelig at ett gruppemedlem leverer på vegne av alle i gruppa.*\n",
    "\n",
    "# Tidsutvikling av bølgefunksjonen\n",
    "\n",
    "Utviklingen av en tilstand $\\Psi = \\Psi(x, t)$ over tid er beskrevet av den tidsavhengige Schrödingerlikningen\n",
    "$$ i \\hbar \\frac{\\partial \\Psi}{\\partial t} = \\hat{H} \\Psi = -\\frac{\\hbar^2}{2m} \\frac{\\partial^2 \\Psi}{\\partial x^2} + V \\Psi $$\n",
    "\n",
    "Ved hjelp av separasjon av variable er det mulig å vise at en generell løsning av denne ligningen er\n",
    "$$ \\Psi(x, t) = \\sum_n c_n \\psi_n(x) e^{-i E_n t / \\hbar} $$\n",
    "der summen går over alle de stasjonære tilstandene $\\psi_n$ med energier $E_n$ som løser den tidsuavhengige Schrödingerligningen\n",
    "$$ \\hat{H} \\psi_n = -\\frac{\\hbar^2}{2 m} \\psi_n'' + V \\psi_n = E_n \\psi_n $$\n",
    "\n",
    "Det viser seg at *enhver* tilstand $\\Psi(x, t)$ kan skrives som en slik lineærkombinasjon av de stasjonære tilstandene, og vi sier derfor at de utgjør et *fullstendig sett*.\n",
    "Gitt en vilkårlig starttilstand $\\Psi_0 = \\Psi(x, 0)$, er det bare snakk om å finne de rette konstantene $c_n$ som oppfyller\n",
    "$$ \\Psi_0 = \\sum_n c_n \\psi_n $$\n",
    "og vi har da all informasjonen vi trenger for å beregne $\\Psi$ for alle $t$.\n",
    "Dette er ingen vanskelig oppgave, da de stasjonære tilstandene er *ortogonale*, og *ortonormale*, så lenge vi velger dem normerte, dvs.\n",
    "$$\\int \\psi_m \\psi_n \\mathrm{d}x = \\delta_{m n} = \\begin{cases}0 & \\text{for}\\,\\, m \\neq n \\\\ 1 & \\text{for}\\,\\, m = n\\end{cases}$$\n",
    "Vi kan utnytte dette til å \"plukke ut\" en av konstantene $c_m$ i lineærkombinasjonen ved å integrere begge sider av likningen:\n",
    "$$ \\int \\Psi_0 \\psi_m \\mathrm{d}x = \\int \\sum_n c_n \\psi_n \\psi_m \\mathrm{d}x = \\sum_n c_n \\int \\psi_n \\psi_m \\mathrm{d}x = \\sum_n c_n \\delta_{m n} = c_m $$\n",
    "\n",
    "I denne øvingen skal vi se nærmere på egenskapene om ortogonalitet og fullstendighet i en diskretisert modell og utnytte dette til å studere tidsutviklingen til vilkårlige starttilstander i vilkårlige potensialer.\n",
    "\n",
    "Vi bruker samme modell for diskretiseringen av rommet som i den første numeriske øvingen.\n",
    "Der diskretiserte vi rommet i $N + 2$ ekvidistante punkter fra $x_0$ til $x_{N+1}$ og satte $V(x \\leq x_0) = V(x \\geq x_{N+1}) = \\infty$, slik at $\\psi_n(x \\leq x_0) = \\psi_n(x \\geq x_{N+1}) = 0$.\n",
    "Vi innførte så et vilkårlig potensial $\\boldsymbol{V} = [V(x_1), \\ldots, V(x_N)]^T$ på rutenettet $\\boldsymbol{x} = [x_1, \\ldots, x_N]^T$ og fant de stasjonære tilstandene $\\boldsymbol{\\psi_n} = [\\psi_n(x_1), \\ldots, \\psi_n(x_N)]^T$ og energiene $E_n$ ved å finne egenverdiene og egenvektorene til Hamiltonmatrisen $H$.\n",
    "\n",
    "Hamiltonmatrisen $H$ er en reell og symmetrisk matrise, og har da ifølge et teorem fra lineæralgebraen ortogonale egenvektorer.\n",
    "Vi kan så oversette formen for den generelle løsningen på den tidsavhengige Schrödingerlikningen til vår diskretiserte modell med vektorlikningen\n",
    "$$ \\boldsymbol{\\Psi} = \\boldsymbol{\\Psi}(x, t) = [\\Psi(x_1, t), \\ldots, \\Psi(x_N, t)]^T = \\sum_{n=1}^{N} c_n \\boldsymbol{\\psi_n} e^{-i E_n t / \\hbar} $$\n",
    "I denne diskretiserte modellen får vi dermed helt tilsvarende ortogonalitets- og fullstendighetsegenskaper som med de eksakte funksjonene $\\psi$ og $\\Psi$."
   ]
  },
  {
   "cell_type": "code",
   "execution_count": null,
   "metadata": {
    "ExecuteTime": {
     "end_time": "2021-10-22T20:16:07.889493Z",
     "start_time": "2021-10-22T20:16:07.877493Z"
    }
   },
   "outputs": [],
   "source": [
    "# uncomment ONE line to choose matplotlib backend\n",
    "# if using Jupyter Notebook, use interactive \"notebook\" backend for best results\n",
    "# if using Jupyter Lab, use interactive \"widget\" backend for best results\n",
    "# if both fail, use static \"inline\" backend\n",
    "%matplotlib notebook \n",
    "#%matplotlib widget \n",
    "#%matplotlib inline \n",
    "\n",
    "\n",
    "# importing necessary libraries\n",
    "import matplotlib.pyplot as plt\n",
    "import matplotlib.animation\n",
    "import numpy as np\n",
    "from IPython.display import HTML, clear_output\n",
    "\n",
    "\n",
    "# helpful to raise exception upon complex number calculation error\n",
    "# instead of just a not descriptive warning\n",
    "import warnings\n",
    "warnings.filterwarnings(action=\"error\", category=np.ComplexWarning)\n"
   ]
  },
  {
   "cell_type": "markdown",
   "metadata": {},
   "source": [
    "For å finne de stasjonære tilstandene $\\boldsymbol{\\psi_n}$ og energiene $E_n$ til en partikkel i et vilkårlig potensial $\\boldsymbol{V}$, bruker vi teknikken fra den første numeriske øvingen.\n",
    "Vi har lagt ved fungerende funksjonalitet for dette i funksjonen `get_stationary_states()` under. \n",
    "**Merk at**\n",
    "* **det brukes atomære enheter med $\\hbar = m_e = 1$, slik at naturlige avstander og tider også har tallverdier i størrelsesorden rundt 1,**\n",
    "* **de stasjonære tilstandene $\\boldsymbol{\\psi_n}$ normeres i forstanden $\\boldsymbol{\\psi_m} \\cdot \\boldsymbol{\\psi_n} = \\sum_{i=1}^N \\psi_{m,i} \\psi_{n,i} \\Delta x = \\delta_{mn}$ (der $\\psi_{n,i}$ er $i$-te element i vektoren $\\boldsymbol{\\psi_n}$), i tråd med normeringsintegralet $\\int \\psi_m \\psi_n \\mathrm{d}x \\approx \\sum_{i=1}^N \\psi_m(x_i) \\psi_n(x_i) \\Delta x$, og at**\n",
    "* **de stasjonære tilstandene kommer ut i en $N \\times N$ matrise med $\\boldsymbol{\\psi_n}$ langs den $n$-te *raden*, som så kan hentes ut med `waves[n-1]`.**\n",
    "\n",
    "Du kan selvfølgelig erstatte dette med din egen løsning fra den første numeriske øvingen, da du kanskje er bedre kjent med denne. For å passe inn med noe inkludert programkode senere i øvingen, anbefaler vi likevel at kravene over er tilfredsstilt."
   ]
  },
  {
   "cell_type": "code",
   "execution_count": null,
   "metadata": {
    "ExecuteTime": {
     "end_time": "2021-10-22T20:16:07.896496Z",
     "start_time": "2021-10-22T20:16:07.891494Z"
    }
   },
   "outputs": [],
   "source": [
    "# Defining constants in SI units\n",
    "hb: float = 1.05e-34 #hbar - plancks constant/2*pi\n",
    "me: float = 9.1e-31 #electron mass\n",
    "e: float = 1.6e-19 #electron charge\n",
    "a0: float = 5.29e-11 #adjustment constant - go from atomic units to SI units \n",
    "Eh: float = hb**2/(me*a0**2) #Energy\n",
    "atomic_units: bool = False"
   ]
  },
  {
   "cell_type": "code",
   "execution_count": null,
   "metadata": {
    "ExecuteTime": {
     "end_time": "2021-10-22T20:16:07.903493Z",
     "start_time": "2021-10-22T20:16:07.899494Z"
    }
   },
   "outputs": [],
   "source": [
    "# Defining constants in atomic units\n",
    "hb: float = 1.\n",
    "me: float = 1.\n",
    "e: float = 1.\n",
    "a0: float = 1.\n",
    "Eh: float = hb**2/(me*a0**2)\n",
    "atomic_units: bool = True"
   ]
  },
  {
   "cell_type": "code",
   "execution_count": null,
   "metadata": {
    "ExecuteTime": {
     "end_time": "2021-10-22T20:16:07.912507Z",
     "start_time": "2021-10-22T20:16:07.905495Z"
    }
   },
   "outputs": [],
   "source": [
    "def hamiltonian(x: np.ndarray, V: np.ndarray, m: float = me) -> np.ndarray:  # function returns an 2D-array, Hamilton-matrix\n",
    "    dx: float = x[1] - x[0]  # defines step length dx\n",
    "    diag: np.ndarray = V + hb**2/(m * dx**2)  # defines the diagonal of the matrix by given formula\n",
    "    semidiag: np.ndarray = np.full(len(x)-1, -hb**2/(2 * m * dx**2))  # defines the semi-diagonal of the matrix by given formula\n",
    "    return np.diag(diag) + np.diag(semidiag, k=1) + np.diag(semidiag, k=-1)\n",
    "\n",
    "\n",
    "def normalize(vecs: np.ndarray, x: np.ndarray) -> np.ndarray:  # function returns an 1D-array, of normalized values vecs\n",
    "    dx: float = x[1] - x[0]  # defines step length dx \n",
    "    normalizing_values = np.sqrt(np.sum(np.abs(vecs)**2 * dx, axis=1)[np.newaxis].T)\n",
    "    return vecs / normalizing_values\n",
    "\n",
    "\n",
    "def get_stationary_states(x: np.ndarray, V: np.ndarray, m: float = me):  # returns a vector of energies, and a 2D-matrix of corresponding wave functions\n",
    "    H: np.ndarray = hamiltonian(x, V, m) #make Hamilton-matrix\n",
    "    energies, eigenvectors = np.linalg.eigh(H) #find energies and eigenvectors\n",
    "    waves: np.ndarray = normalize(eigenvectors.T, x) #find wave functions using eigenvectors\n",
    "    # waves[waves[:, 1] < 0.] *= -1  # Can be used to ensure that all wave functions start at a positive value\n",
    "    return energies, waves\n"
   ]
  },
  {
   "cell_type": "markdown",
   "metadata": {},
   "source": [
    "Nedenfor har vi konstruert noen potensialer $\\boldsymbol{V}$.\n",
    "\n",
    "**For hvert av disse potensialene, finn de stasjonære tilstandene for et elektron og bekreft at de er ortonormale og utgjør et fullstendig sett.**\n",
    "\n",
    "**Ta deg friheten til å endre litt på potensialene, om de ikke \"passer inn\" i programmet ditt i formen under.**"
   ]
  },
  {
   "cell_type": "code",
   "execution_count": null,
   "metadata": {
    "ExecuteTime": {
     "end_time": "2021-10-22T20:16:08.442495Z",
     "start_time": "2021-10-22T20:16:07.914494Z"
    }
   },
   "outputs": [],
   "source": [
    "m = me  # the mass of the particle\n",
    "w = 1. * Eh/hb\n",
    "x, dx = np.linspace(-20*a0, +20*a0, 400, retstep=True)  # defines list x and step length dx\n",
    "\n",
    "\n",
    "# predefined potentials, with their names given in the list titles\n",
    "v_infwell = np.zeros_like(x)\n",
    "v_harmosc = 0.5*m*w**2*x**2\n",
    "v_finwell = np.piecewise(x, [np.abs(x) > 2*a0, np.abs(x) <= 2*a0], [0.*Eh, 40.*Eh])\n",
    "v_weird = np.random.rand(len(x))\n",
    "potentials = [v_infwell, v_harmosc, v_finwell, v_weird]\n",
    "titles = [\"Infinite well\", \"Harmonic oscillator\", \"Finite well\", \"Weird potential\"]\n",
    "\n",
    "\n",
    "def orthonormality(psi: np.ndarray, dx: float) -> np.ndarray:\n",
    "    \"\"\"Returns a 2D grid where grid[i,j] = psi[i] \\\\dot psi[j] * dx\"\"\"\n",
    "    return psi @ psi.T * dx\n",
    "# for more info on the usage of @, check: https://numpy.org/doc/stable/reference/generated/numpy.dot.html\n",
    "# introduced in PEP 465: https://www.python.org/dev/peps/pep-0465/\n",
    "\n",
    "\n",
    "# calculation of various properties and visualization of results\n",
    "fig = plt.figure(figsize=(10, 10))\n",
    "for i in range(len(potentials)):\n",
    "    energies, waves = get_stationary_states(x, potentials[i], m)\n",
    "\n",
    "    orthonormal_grid = orthonormality(waves, dx)\n",
    "\n",
    "    ax = fig.add_subplot(2, 2, i+1)\n",
    "    ax.set_title(f'$<\\\\psi_n, \\\\psi_m>$ for {titles[i]}')\n",
    "    plt.imshow(orthonormal_grid, cmap='hot')\n",
    "    plt.colorbar(orientation='vertical')\n",
    "plt.show()\n"
   ]
  },
  {
   "cell_type": "markdown",
   "metadata": {},
   "source": [
    "From the figures, we observe that the stationary states are orthonormal, for all n and m, and for all potentials. We see that only the diagonal consists of ones, and the rest is zeros. ie, the product is only nonzero (here one) when n = m. "
   ]
  },
  {
   "cell_type": "markdown",
   "metadata": {},
   "source": [
    "Nå som vi har bekreftet ortogonaliteten til de stasjonære tilstandene, er vi godt forberedt til å beregne koeffisientene $c_n$ som behøves for å representere en vilkårlig starttilstand $\\boldsymbol{\\Psi_0}$ som en lineærkombinasjon $\\boldsymbol{\\Psi_0} = \\sum_n c_n \\boldsymbol{\\psi_n}$ av de stasjonære tilstandene.\n",
    "For å finne $\\boldsymbol{\\Psi}$ for $t > 0$, trenger vi så bare sette på eksponentialfaktorene $e^{-i E_n t / \\hbar}$.\n",
    "\n",
    "**Skriv en funksjon som beregner og returnerer koeffisientene $c_n$Â som behøves for å representere en starttilstand $\\boldsymbol{\\Psi_0}$ som en lineærkombinasjon av de stasjonære tilstandene $\\boldsymbol{\\psi_n}$ i et diskretisert rom $\\boldsymbol{x}$.**\n",
    "\n",
    "**Skriv også en funksjon som beregner $\\boldsymbol{\\Psi}$ for en vilkårlig tid $t>0$ ut fra koeffisientene $c_n$, de stasjonære tilstandene $\\boldsymbol{\\psi_n}$ og energiene $E_n$. Merk at beregningene involverer tallet $i = \\sqrt{-1}$, som i Python er representert med `1j`.**\n",
    "\n",
    "**Du kan godt verifisere at funksjonene i det minste klarer å reprodusere en eller annen starttilstand i et eller annet potensial ved $t = 0$. I de neste oppgavene vil du få testet dem også for $t > 0$.**"
   ]
  },
  {
   "cell_type": "code",
   "execution_count": null,
   "metadata": {
    "ExecuteTime": {
     "end_time": "2021-10-22T20:16:08.906494Z",
     "start_time": "2021-10-22T20:16:08.487494Z"
    },
    "scrolled": false
   },
   "outputs": [],
   "source": [
    "def cn_calc(waves: np.ndarray, initial: np.ndarray, dx: float) -> np.ndarray:  # returns vector with values for c_n\n",
    "    return waves @ initial * dx\n",
    "\n",
    "\n",
    "def STDE_calc(t: float, waves: np.ndarray, cn: np.ndarray, E: np.ndarray) -> np.ndarray:  # returns vector with values for\n",
    "                                                                                          # the time depentent Schrödinger equation\n",
    "    weighted_waves: np.ndarray = waves * cn[:, np.newaxis]  # [:, np.newaxis] converts cn to a column vector\n",
    "    time_factor: np.ndarray = np.exp(-1j*E*t/hb)\n",
    "    return time_factor @ weighted_waves\n",
    "\n",
    "\n",
    "# calculation of various properties and visualization of results\n",
    "fig = plt.figure(figsize=(10, 10))\n",
    "x, dx = np.linspace(-20*a0, +20*a0, 400, retstep=True)  # defines list x and step length dx\n",
    "for i in range(len(potentials)):\n",
    "    energies, waves = get_stationary_states(x, potentials[i], m)\n",
    "    Psi = np.sin(2*x*np.pi/x[-1])\n",
    "    cn: np.ndarray = cn_calc(waves, Psi, dx)\n",
    "    STDE: np.ndarray = STDE_calc(0, waves, cn, energies)\n",
    "    ax = fig.add_subplot(2, 2, i+1)\n",
    "    ax.set_title(f'STDE og lincomb STDE for {titles[i]}')\n",
    "    ax.plot(x, Psi, label=\"Initialbetingelsen $\\\\Psi_0$\")\n",
    "    ax.plot(x, np.real(STDE), \"--\", label=\"$\\\\Psi_0$ funnet ved cn\")\n",
    "    ax.grid(True)\n",
    "    ax.legend()\n",
    "plt.show()\n"
   ]
  },
  {
   "cell_type": "markdown",
   "metadata": {},
   "source": [
    "Nå har vi alt vi trenger for å studere tidsutviklingen av bølgefunksjonen.\n",
    "Dette skal vi gjøre ved å lage en animasjon.\n",
    "`matplotlib` er ikke et spesielt velegnet bibliotek til dette, men fungerer allikevel godt nok for vårt formål.\n",
    "\n",
    "Nedenfor har vi satt sammen funksjonen `animate_wave()` som du skal modifisere til å gjøre nettopp dette.\n",
    "Den tar inn et diskretisert rom $\\boldsymbol{x}$, potensialverdier $\\boldsymbol{V}$, en masse $m$, en starttilstand $\\boldsymbol{\\Psi_0}$ og antall bilder som skal vises per sekund, `fps`.\n",
    "Funksjonen kaller `animate()` én gang per bilde i animasjonen, der en (foreløpig meningsløs) \"bølgefunksjon\" beregnes og vises i animasjonen.\n",
    "\n",
    "Nedenfor har vi satt sammen litt mer informasjon om funksjonen og noen tips om hvordan du kan bruke den til å få tilfredsstillende resultater.\n",
    "* Du kan vise real- eller imaginærdelen til funksjonen som animeres med argumentene `real` og `imag`.\n",
    "* Du kan bestemme når animasjonen skal starte og slutte med argumentene `t1` og `t2`. Om du ikke ber om annet, vil den begynne ved $t_1 = 0$ og fortsette for evig og alltid til $t_2 = \\infty$. Differansen mellom disse tallene bestemmer også varigheten på animasjonen i *sekunder*.\n",
    "* Du kan bestemme om animasjonen skal vises i sanntid eller forhåndsberegnes med argumentet `realtime`.\n",
    "    * I sanntidsmodus gjøres beregningene parallelt med animeringen. Du vil se resultater fra første sekund, men animasjonen kan bli hakkete hvis tidssteget er så lite at beregningene ikke klarer å holde følge med animeringen.\n",
    "    * I forhåndsberegningsmodus bruker maskinen tiden den trenger til å sette sammen alle bildene i animasjonen til en video. Tidssteget vil respekteres, men forhåndsberegningen kan ta en stund og du må bruke et endelig tidsintervall. **Kjør animasjonene i forhåndsberegningsmodus før du leverer oppgaven, slik at de kan spilles av som en video.**\n",
    "\n",
    "Det er også noen tekniske ting som er greit å merke seg, i tilfelle ting ikke fungerer.\n",
    "* **Funksjonen `animate_wave()` må kalles nederst i en Jupyter Notebook-celle for at animasjonen skal vises.**\n",
    "* Hvis du irriterer deg over at figuren som animeres vises to ganger, kan du kommentere ut kodeblokken med `clear_output()`.  **Vær i så fall klar over at dette vil fjerne all output som er generert av en celle fram til `clear_output()` kalles.**\n",
    "* Sanntidsmodus `realtime=True` kan kun brukes om du har bedt Jupyter Notebook eller Jupyter Lab bruke en interaktiv backend med `%matplotlib notebook` eller `%matplotlib widget` øverst i notebooken. Om ikke må du forhåndsberegne animasjonene med `realtime=False`.\n",
    "\n",
    "**Sett deg inn i og modifiser funksjonen `animate_wave()`, slik at den animerer $\\boldsymbol{\\Psi}$ fra starttilstanden $\\boldsymbol{\\Psi_0}$ i potensialet $V$ i rommet $\\boldsymbol{x}$.**"
   ]
  },
  {
   "cell_type": "code",
   "execution_count": null,
   "metadata": {
    "ExecuteTime": {
     "end_time": "2021-10-22T20:16:08.969496Z",
     "start_time": "2021-10-22T20:16:08.907492Z"
    }
   },
   "outputs": [],
   "source": [
    "def animate_wave(x, v, m, wave0, fps, t1=0, t2=None, realtime=True, real=False, imag=False, extra_info: str = \"\"):\n",
    "    assert realtime or t2 is not None, \"non-realtime animation must be finite in time\"\n",
    "    \n",
    "    dt = 1 / fps\n",
    "    nframes = None if t2 is None else int((t2 - t1) / dt)  # None animates forever\n",
    "    \n",
    "    fig, ax = plt.subplots()\n",
    "    \n",
    "    # prevent duplicate animation figure in non-realtime mode\n",
    "    if not realtime:\n",
    "        clear_output()\n",
    "    \n",
    "    \n",
    "    # print information about this animation\n",
    "    nframesstr = \"infinite\" if t2 is None else f\"{nframes}\"\n",
    "    durationstr = \"infinite\" if t2 is None else f\"{t2-t1:.2f}\"\n",
    "    print(\"Animation information:\")\n",
    "    print(f\"  Frames   : {nframesstr}\")\n",
    "    print(f\"  Framerate: {fps} FPS\")\n",
    "    print(f\"  Duration : {durationstr}\")\n",
    "    print(f\"  Time step: {dt}\")\n",
    "    print(extra_info)\n",
    "    \n",
    "    \n",
    "    ax.set_xlabel(\"$x$\")\n",
    "    ax.set_ylabel(\"$|\\\\Psi|$, $\\\\Re{(\\\\Psi)}$, $\\\\Im{(\\\\Psi)}$\")\n",
    "    ax.grid(True)\n",
    "    \n",
    "    # create objects for the graphs that will be updated every frame\n",
    "    # the commas matter!\n",
    "    ymax = max(np.max(np.abs(wave0)**2), np.max(np.abs(wave0)))  # TODO\n",
    "    ymax = np.max(np.abs(wave0))\n",
    "    graph, = ax.plot([x[0], x[-1]], [0, +1.5*ymax])  # plot 1.5x wave0 to make room\n",
    "    if real:\n",
    "        graph2, = ax.plot([x[0], x[-1]], [0, -1.5*ymax])  # make room for negative values\n",
    "    if imag:\n",
    "        graph3, = ax.plot([x[0], x[-1]], [0, -1.5*ymax])  # make room for negative values\n",
    "    \n",
    "    # plot potential extended with indications of infinite walls at ends\n",
    "    ax2 = ax.twinx()\n",
    "    v_max = np.min(v) + 1.1 * (np.max(v) - np.min(v)) + 1  # + 1 if v = const\n",
    "    x_ext = np.concatenate(([x[0]], x, [x[-1]]))\n",
    "    v_ext = np.concatenate(([v_max], v, [v_max]))\n",
    "    v_color = \"black\"\n",
    "    ax2.set_ylabel(\"$V(x)$\", color=v_color)\n",
    "    ax2.plot(x_ext, v_ext, linewidth=3, color=v_color, label=\"V\")\n",
    "    ax2.tick_params('y', colors=v_color)\n",
    "    ax2.legend(loc=\"upper right\")\n",
    "    \n",
    "    # call this function for every frame in the animation\n",
    "    def animate(frame, energies, waves, cn):\n",
    "        time = t1 + frame*dt\n",
    "        wave = STDE_calc(time, waves, cn, energies)\n",
    "        \n",
    "        # update graph objects\n",
    "        # set_data() etc. modifies an existing object in a figure\n",
    "        # it is much more efficient than creating a new figure for every animation frame\n",
    "        graph.set_data(x, np.abs(wave))\n",
    "        graph.set_label(f\"$|\\\\Psi(x, t = {time:.2f})|$\")\n",
    "        if real:\n",
    "            graph2.set_data(x, np.real(wave))\n",
    "            graph2.set_label(f\"$\\\\Re(\\\\Psi(x, t = {time:.2f}))$\")\n",
    "        if imag:\n",
    "            graph3.set_data(x, np.imag(wave))\n",
    "            graph3.set_label(f\"$\\\\Im(\\\\Psi(x, t = {time:.2f}))$\")     \n",
    "        ax.legend(loc=\"upper left\")\n",
    "\n",
    "        \n",
    "\n",
    "    dx = x[1] - x[0]\n",
    "    energies, waves = get_stationary_states(x, v, m)\n",
    "    cn = cn_calc(waves, wave0, dx)\n",
    "    # create matplotlib animation object\n",
    "    ani = matplotlib.animation.FuncAnimation(fig, animate, fargs=(energies, waves, cn), frames=nframes, interval=dt*1000, repeat=False) \n",
    "    if realtime:\n",
    "        return ani\n",
    "    else:\n",
    "        return HTML(ani.to_jshtml())\n"
   ]
  },
  {
   "cell_type": "markdown",
   "metadata": {},
   "source": [
    "I resten av øvingen skal vi rett og slett bare teste ut animasjonsfunksjonen på en del forskjellige situasjoner.\n",
    "\n",
    "### Partikkel i boks\n",
    "\n",
    "I regneøvingene har vi sett på superposisjonen av grunntilstanden og første eksiterte tilstand\n",
    "$$ \\Psi(x, 0) = \\frac{1}{\\sqrt{2}} (\\psi_1(x) + \\psi_2(x)) $$\n",
    "for en partikkel i boks.\n",
    "Vi fant så at sannsynlighetstettheten $|\\Psi(x, t)|^2$ skulle oscillere fram og tilbake med perioden\n",
    "$$ T = \\frac{2 \\pi \\hbar}{E_2 - E_1} $$\n",
    "\n",
    "**Preparér denne starttilstanden for et elektron i en boks og bekreft at perioden er riktig. Du kan for eksempel variere størrelsen på boksen for å finne en periode du har tid til å observere.**"
   ]
  },
  {
   "cell_type": "code",
   "execution_count": null,
   "metadata": {
    "ExecuteTime": {
     "end_time": "2021-10-22T20:16:28.745496Z",
     "start_time": "2021-10-22T20:16:08.979496Z"
    },
    "scrolled": false
   },
   "outputs": [],
   "source": [
    "x: np.ndarray = np.linspace(0.*a0, 5.*a0, 400)  # x-values, defined as an array\n",
    "m = me  # the mass of the particle\n",
    "V_infwell: np.ndarray = np.zeros_like(x)  # initializes potential-vector\n",
    "\n",
    "    \n",
    "# calculation of various given properties\n",
    "energies, waves = get_stationary_states(x, V_infwell, m)\n",
    "initial: np.ndarray = 1/np.sqrt(2) * (waves[0] + waves[1])\n",
    "T: float = (2 * np.pi * hb) / (energies[1] - energies[0])\n",
    "\n",
    "    \n",
    "# visualization of results\n",
    "animate_wave(x, V_infwell, m, initial, 20, t2=T+2, realtime=False, real=True, imag=True, extra_info=f\"  Period of oscillation: {T:.2f}\")\n"
   ]
  },
  {
   "cell_type": "markdown",
   "metadata": {},
   "source": [
    "From the frame at $t=0$ and $t=T$, we observe that the wave function is equal. Therefore, T is equal to the analytical period. "
   ]
  },
  {
   "cell_type": "markdown",
   "metadata": {},
   "source": [
    "### Fri partikkel representert ved Gaussisk bølgepakke\n",
    "\n",
    "I regneøvingene har vi også sett hvordan vi kan representere en fri partikkel som en gaussisk bølgepakke\n",
    "$$ \\Psi(x, 0) = (2 \\pi \\Delta x^2)^{-1/4} e^{-(x-x_0)^2/4 \\Delta x^2} e^{i p_0 x / \\hbar} $$\n",
    "med \n",
    "$$ \\langle x \\rangle = x_0 \\quad \\text{og} \\quad \\langle p \\rangle = p_0 $$\n",
    "Slik oppnådde vi også et \"beste kompromiss\" mellom usikkerhetene i posisjon $\\Delta x$ og impuls $\\Delta p$, nemlig\n",
    "$$ \\Delta x \\Delta p = \\hbar / 2 $$\n",
    "Dette er altså det nærmeste vi kommer å kunne representere en fri partikkel med en noenlunde veldefinert posisjon **og** impuls.\n",
    "\n",
    "**Plassér et elektron i en uendelig brønn med en gaussisk bølgepakke. Sørg for at den har plass til å bevege seg et stykke før den kræsjer i veggen. Studér utviklingen over tid. Hva skjer med formen til bølgepakken over tid? Hva skjer ved veggene? Hvilken hastighet har bølgepakkens tyngdepunkt?**"
   ]
  },
  {
   "cell_type": "code",
   "execution_count": null,
   "metadata": {
    "ExecuteTime": {
     "end_time": "2021-10-22T20:16:35.079524Z",
     "start_time": "2021-10-22T20:16:28.772494Z"
    }
   },
   "outputs": [],
   "source": [
    "def gauss(x: np.ndarray, p0: float, x0: float) -> np.ndarray: # defines the gauss function\n",
    "    dx = x[1] - x[0]\n",
    "    return (2*np.pi*dx**2)**(-0.25) * np.exp(-(x-x0)**2 / (4*dx**2)) * np.exp(1j*p0*x/hb)\n",
    "\n",
    "\n",
    "x, dx = np.linspace(-14*a0, 14*a0, 400, retstep=True)  # x-values, defined as an array. Timestep dx\n",
    "V_infwell = np.zeros_like(x)  # initializes array for potential\n",
    "m = me  # the mass of the particle\n",
    "# expectation value for impulse p and position x\n",
    "p0 = 15. * hb/a0\n",
    "x0 = 0. * a0\n",
    "\n",
    "\n",
    "initial = gauss(x, p0, x0)  # initial gauss function \n",
    "\n",
    "\n",
    "# visualization of results\n",
    "animate_wave(x, V_infwell, m, initial, 25, t1=0, t2=4, realtime=False, real=False, imag=False)\n"
   ]
  },
  {
   "cell_type": "markdown",
   "metadata": {},
   "source": [
    "Dispersion takes place over time, and of course, the wave packet collides with the walls and is reflected. This will cause interference to occur.\n",
    "\n",
    "The speed of the wave package is $v = p_0/m_e$"
   ]
  },
  {
   "cell_type": "markdown",
   "metadata": {},
   "source": [
    "### Koherent tilstand i harmonisk oscillator\n",
    "\n",
    "En forskjøvet grunntilstand\n",
    "$$ \\Psi(x, 0) = \\left(\\frac{m \\omega}{\\pi \\hbar}\\right)^{1/4} e^{-m \\omega (x-x_0)^2 / \\pi \\hbar} $$\n",
    "i den harmoniske oscillatoren kalles på engelsk en *coherent state*.\n",
    "På norsk kan vi kalle dette en *koherent* eller kanskje en *sammenhengende tilstand*.\n",
    "Slike tilstander er av spesiell interesse når vi sammenligner kvantemekanikken med den klassiske mekanikken.\n",
    "\n",
    "**Studér tidsutviklingen til en slik tilstand for et elektron i en harmonisk oscillator. Plassér den et sted til siden for sentrum av oscillatoren. Kan du se for deg motivasjonen bak navngivningen? Hvilken karakteristisk egenskap ved tilstanden tror du gjør den spesielt relevant for sammenligning med klassisk mekanikk?**"
   ]
  },
  {
   "cell_type": "code",
   "execution_count": null,
   "metadata": {
    "ExecuteTime": {
     "end_time": "2021-10-22T20:16:59.388351Z",
     "start_time": "2021-10-22T20:16:35.085496Z"
    }
   },
   "outputs": [],
   "source": [
    "def coherent_state(x: np.ndarray, x0: float, w: float, m: float = me) -> np.ndarray:  # defines the coherent state as given\n",
    "    return (m*w/(np.pi*hb))**(0.25) * np.exp(-m*w* (x-x0)**2 / (np.pi*hb))\n",
    "\n",
    "\n",
    "x, dx = np.linspace(-10*a0, 10*a0, 400, retstep=True)  # x-values in an array, and timestep dx\n",
    "\n",
    "\n",
    "w = 2. * Eh/hb\n",
    "m = me  # the mass of the particle\n",
    "x0 = -5. * a0  # start position of the particle\n",
    "V_harmonic = 0.5 * m * w**2 * x**2  # defines harmonic potential\n",
    "initial = coherent_state(x, x0, w, m)  # defines the coherent state \n",
    "\n",
    "# visualization of results\n",
    "animate_wave(x, V_harmonic, m, initial, 25, t1=0,t2=10, realtime=False, real=True, imag=True)\n"
   ]
  },
  {
   "cell_type": "markdown",
   "metadata": {},
   "source": [
    "Here, no dispersion occurs, and, the amplitude does not decrease with time. This is completely analogous to the block-spring systems in classical mechanics. "
   ]
  },
  {
   "cell_type": "markdown",
   "metadata": {},
   "source": [
    "### Transmisjon og refleksjon av fri partikkel ved potensialbarriere\n",
    "\n",
    "I den klassiske mekanikken kan en partikkel umulig befinne seg i et område der partikkelens energi er lavere enn den potensielle energien.\n",
    "Men i kvantemekanikken er ikke ting så enkelt.\n",
    "Her kan en partikkel bevege seg gjennom et potensial, selv om potensialet på et punkt er høyere enn partikkelens energi.\n",
    "Mulighetene for transmisjon og refleksjon avhenger spesielt av partikkelens (forventede) energi\n",
    "$$ \\langle E \\rangle = \\sum_{n=1}^N |c_n|^2 E_n $$\n",
    "\n",
    "**Send et fritt elektron (i form av en gaussisk bølgepakke) inn mot en potensialbarriere. Studér transmisjonen og refleksjonen av bølgepakken. Undersøk hvordan partikkelens (forventede) energi påvirker dens muligheter for å reflekteres og transmitteres, særlig for energier rundt barrierehøyden. Du kan enkelt variere energien ved å justere for eksempel partikkelens impuls.**"
   ]
  },
  {
   "cell_type": "markdown",
   "metadata": {},
   "source": [
    " With $p_0 = 0.01~ \\hbar / a_0$"
   ]
  },
  {
   "cell_type": "code",
   "execution_count": null,
   "metadata": {
    "ExecuteTime": {
     "end_time": "2021-10-22T20:17:11.829324Z",
     "start_time": "2021-10-22T20:16:59.394323Z"
    }
   },
   "outputs": [],
   "source": [
    "x, dx = np.linspace(-10*a0, 10*a0, 400, retstep=True)  # x-values in an array, and timestep dx\n",
    "V0 = 100. * Eh  # the potential at the box walls\n",
    "m = me  # the mass of the particle\n",
    "# expectation value for impulse p and position x\n",
    "p0 = 0.01 * hb/a0\n",
    "x0 = -4. * a0\n",
    "\n",
    "\n",
    "V_barrier = np.piecewise(x, [np.abs(x) > 1.5*a0, np.abs(x) <= 1.5*a0], [-V0, V0])  # defines the potential barrier\n",
    "initial = gauss(x, p0, x0)  # initial gauss function \n",
    "energies, waves = get_stationary_states(x, V_barrier, m)  # calculates wave functions and energies \n",
    "cn = cn_calc(waves, initial, dx)\n",
    "\n",
    "\n",
    "E: float = np.sum(np.abs(cn)**2*energies)\n",
    "\n",
    "\n",
    "# visualization of results\n",
    "animate_wave(x, V_barrier, m, initial, 50, t2=4, realtime=False, real=False, imag=False, extra_info=f\"  p0 = {p0:.2f}\\n  E0 = {E:.2f}\")\n"
   ]
  },
  {
   "cell_type": "markdown",
   "metadata": {},
   "source": [
    " With $p_0 = 20~ \\hbar / a_0$"
   ]
  },
  {
   "cell_type": "code",
   "execution_count": null,
   "metadata": {
    "ExecuteTime": {
     "end_time": "2021-10-22T20:17:24.246351Z",
     "start_time": "2021-10-22T20:17:11.838325Z"
    }
   },
   "outputs": [],
   "source": [
    "x, dx = np.linspace(-10*a0, 10*a0, 400, retstep=True)  # x-values in an array, and timestep dx\n",
    "V0 = 100. * Eh  # the potential at the box walls\n",
    "m = me  # the mass of the particle\n",
    "# expectation value for impulse p and position x\n",
    "p0 = 20. * hb/a0\n",
    "x0 = -4. * a0\n",
    "\n",
    "\n",
    "V_barrier = np.piecewise(x, [np.abs(x) > 1.5*a0, np.abs(x) <= 1.5*a0], [-V0, V0])  # defines the potential barrier\n",
    "initial = gauss(x, p0, x0)  # initial gauss function \n",
    "energies, waves = get_stationary_states(x, V_barrier, m)  # calculates wave functions and energies \n",
    "cn = cn_calc(waves, initial, dx)\n",
    "\n",
    "\n",
    "E: float = np.sum(np.abs(cn)**2*energies)\n",
    "\n",
    "\n",
    "# visualization of results\n",
    "animate_wave(x, V_barrier, m, initial, 50, t2=4, realtime=False, real=False, imag=False, extra_info=f\"  p0 = {p0:.2f}\\n  E0 = {E:.2f}\")"
   ]
  },
  {
   "cell_type": "markdown",
   "metadata": {},
   "source": [
    "With $V = 100$, we study different values of $p_0$. With a low $p_0 = 0.01~ \\hbar / a_0$, most, if not all of the wave, will be reflected. With $p_0 = 0.01~ \\hbar / a_0$, the wave energy is nowhere near the potential. But as we increase the value of $p_0$, the energy increases, and more and more of the wave will be transmitted. As we increase the value of $p_0$, the energy increases. For $p_0 = 20~ \\hbar / a_0$, we observe that the energy has exceeded the potential. Now, most of the wave will be transmitted, but we still observe some reflection. "
   ]
  }
 ],
 "metadata": {
  "kernelspec": {
   "display_name": "Python 3 (ipykernel)",
   "language": "python",
   "name": "python3"
  },
  "language_info": {
   "codemirror_mode": {
    "name": "ipython",
    "version": 3
   },
   "file_extension": ".py",
   "mimetype": "text/x-python",
   "name": "python",
   "nbconvert_exporter": "python",
   "pygments_lexer": "ipython3",
   "version": "3.9.7"
  },
  "toc": {
   "base_numbering": 1,
   "nav_menu": {},
   "number_sections": true,
   "sideBar": true,
   "skip_h1_title": false,
   "title_cell": "Table of Contents",
   "title_sidebar": "Contents",
   "toc_cell": false,
   "toc_position": {},
   "toc_section_display": true,
   "toc_window_display": false
  },
  "varInspector": {
   "cols": {
    "lenName": 16,
    "lenType": 16,
    "lenVar": 40
   },
   "kernels_config": {
    "python": {
     "delete_cmd_postfix": "",
     "delete_cmd_prefix": "del ",
     "library": "var_list.py",
     "varRefreshCmd": "print(var_dic_list())"
    },
    "r": {
     "delete_cmd_postfix": ") ",
     "delete_cmd_prefix": "rm(",
     "library": "var_list.r",
     "varRefreshCmd": "cat(var_dic_list()) "
    }
   },
   "types_to_exclude": [
    "module",
    "function",
    "builtin_function_or_method",
    "instance",
    "_Feature"
   ],
   "window_display": false
  }
 },
 "nbformat": 4,
 "nbformat_minor": 4
}
